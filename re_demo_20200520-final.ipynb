{
 "cells": [
  {
   "attachments": {},
   "cell_type": "markdown",
   "metadata": {},
   "source": [
    "# TASK # 01: Find how many times the word ‘email’ (irrespective of case) has appeared in the text   "
   ]
  },
  {
   "cell_type": "code",
   "execution_count": 1,
   "metadata": {},
   "outputs": [],
   "source": [
    "import re"
   ]
  },
  {
   "cell_type": "code",
   "execution_count": 2,
   "metadata": {},
   "outputs": [],
   "source": [
    "fp = open('emailinventionstory.txt','r')"
   ]
  },
  {
   "cell_type": "code",
   "execution_count": 3,
   "metadata": {},
   "outputs": [
    {
     "data": {
      "text/plain": [
       "<_io.TextIOWrapper name='emailinventionstory.txt' mode='r' encoding='cp1252'>"
      ]
     },
     "execution_count": 3,
     "metadata": {},
     "output_type": "execute_result"
    }
   ],
   "source": [
    "fp"
   ]
  },
  {
   "cell_type": "code",
   "execution_count": 4,
   "metadata": {},
   "outputs": [
    {
     "name": "stdout",
     "output_type": "stream",
     "text": [
      "\"EMAIL\" invention controversy\n",
      "\n",
      "Ayyadurai makes the widely disputed claim to be the \"inventor of email\". His claim is based on the software he wrote as a 14-year-old student at Livingston High School in New Jersey. In 1979—some sources say 1978—he wrote an implementation of an interoffice email system, which he called EMAIL.[5][6]\n",
      "\n",
      "\n",
      "\n",
      "A November 2011 Time Techland interview by Doug Aamoth, entitled \"The Man Who Invented Email\", argued that EMAIL represented the birth of email \"as we currently know it\". In that interview, Ayyadurai recalled that Les Michelson, the former particle scientist at Brookhaven National Labs who assigned Ayyadurai the project, had the idea of creating an electronic mail system that uses the header conventions of a hardcopy memorandum. Ayyadurai recalled Michelson as saying: \"Your job is to convert that into an electronic format. Nobody's done that before.\"[53]\n",
      "\n",
      "\n",
      "\n",
      "In February 2012, the Smithsonian National Museum of American History announced that Ayyadurai had donated \"a trove of documents and code\" related to EMAIL. Initially, the museum—inaccurately—cited the program as one of the first to include the now common \"subject and body fields, inboxes, outboxes, cc, bcc, attachments, and others. He based these elements directly off of the interoffice mail memos the doctors had been using for years, in hopes of convincing people to actually use the newfangled technology.\"[54]\n",
      "\n",
      "\n",
      "\n",
      "Ayyadurai's claims drew editorial clarifications and corrections, as well as criticism from industry observers. In a followup to its acquisition announcement, the Smithsonian stated that it was not claiming that Ayyadurai had invented email, but rather that the materials were historically notable for other reasons related to trends in computer education and the role of computers in medicine.[5] The Smithsonian statement distinguished Ayyadurai's achievement by noting that historians in the field, \"have largely focused on the use of large networked computers, especially those linked to the ARPANET in the early 1970s\". The statement pointed out that Ayyadurai's approach instead \"focused on communications between linked computer terminals in an ordinary office situation\".[5] The Washington Post also followed up with a correction of errors in its earlier report on the Smithsonian acquisition, stating that it incorrectly referred to Ayyadurai as the inventor of electronic messaging; the 'bcc', 'cc', 'to' and 'from' fields existed previously; Ayyadurai had not been honored as the \"inventor of email\".[7]\n",
      "\n",
      "\n",
      "\n",
      "Writing for Gizmodo, Sam Biddle argued that email was developed a decade before EMAIL, beginning with Ray Tomlinson's sending the first text letter between two ARPANET-connected computers in 1971.[55] Biddle quoted Tomlinson: \"[We] had most of the headers needed to deliver the message (to:, cc:, etc.) as well as identifying the sender (from:) and when the message was sent (date:) and what the message was about.\" Biddle allowed for the possibility that Ayyadurai may have coined the term \"EMAIL\" and used the header terms without being aware of earlier work, but maintained that the historical record isn't definitive on either point. Biddle wrote that \"laying claim to the name of a product that's the generic term for a universal technology gives you acres of weasel room. But creating a type of airplane named AIRPLANE doesn't make you Wilbur Wright.\"[56]\n",
      "\n",
      "\n",
      "\n",
      "Thomas Haigh, a historian of information technology at the University of Wisconsin, wrote that \"Ayyadurai is, to the best of my knowledge, the only person to have claimed for him or herself the title 'inventor of email'.\" Haigh argued that while EMAIL was impressive for a teenager's work, it contained no features that were not present on previous electronic mail systems and had no obvious influence on later systems. \"The most striking thing about Ayyadurai's claim to have invented electronic mail is how late it comes. Somehow it took him thirty years to alert the world to [his] greatest achievement\".[57] Haigh wrote that by 1980, \"electronic mail had been in use at MIT for 15 years, Xerox had built a modern, mouse-driven graphical email system for office communication, Compuserve was selling email access to the public, and email had for many years been the most popular application on what was soon to become the Internet.\"[58]\n",
      "\n",
      "\n",
      "\n",
      "David Crocker, a member of the ARPANET research community, writing in the Post, said, \"The reports incorrectly credited [EMAIL's] author, a 14-year-old in the late 1970s, as the 'inventor' of email, long after it had become an established service on the ARPANET.\"[59] Another computer historian, Marc Weber, a curator at the Computer History Museum, said that by 1978, \"nearly all the features we're familiar with today had appeared on one system or another over the previous dozen years\", including emoticons, mailing lists, flame wars, and spam mail.[60]\n",
      "\n",
      "\n",
      "\n",
      "After the controversy unfolded, MIT disassociated itself from Ayyadurai's EMAIL Lab and funding was dropped. MIT also revoked Ayyadurai's contract to lecture at the bioengineering department.[60]\n",
      "\n",
      "\n",
      "\n",
      "Ayyadurai characterized the earlier work of Tomlinson, Tom Van Vleck and others as text messaging, rather than an electronic version of an interoffice mail system.[53][60] Responding to his critics on his personal website,[56][60] Ayyadurai described EMAIL as \"the first of its kind—a fully integrated, database-driven, electronic translation of the interoffice paper mail system derived from the ordinary office situation.\" He maintained that EMAIL was the first electronic mail system to integrate an easy-to-use user interface, a word processor, a relational database, and a modular inter-communications protocol \"integrated together in one single and holistic platform to ensure high-reliability and user-friendliness network-wide.\"[61] Ayyadurai presented a press release on his webpage asserting that his undergraduate professor Noam Chomsky, of MIT's Department of Linguistics and Philosophy, also supported his claims.[6][15]\n",
      "\n",
      "\n",
      "\n",
      "In March 2016, Ayyadurai alleged that the overlooking of his achievements was a result of racism. He complained about Raytheon, where Tomlinson worked on ARPANET. After Tomlinson's death, Ayyadurai told The Hindu that he believed that news outlets retracted their stories about him because, \"Raytheon advertises in publications like the Huffington Post and CNN\" and that if he were \"a white guy and had a copyright for email, I would have my photo on every stamp in the world.\"[62] The day after Tomlinson's death, Ayyadurai tweeted: \"I'm the low-caste, dark-skinned, Indian, who DID invent #email. Not Raytheon, who profits for war & death. Their mascot Tomlinson dies a liar\".\n"
     ]
    }
   ],
   "source": [
    "for line in fp:\n",
    "    print(line)"
   ]
  },
  {
   "cell_type": "code",
   "execution_count": 5,
   "metadata": {},
   "outputs": [
    {
     "name": "stdout",
     "output_type": "stream",
     "text": [
      "\"EMAIL\" invention controversy\n",
      "Ayyadurai makes the widely disputed claim to be the \"inventor of email\". His claim is based on the software he wrote as a 14-year-old student at Livingston High School in New Jersey. In 1979—some sources say 1978—he wrote an implementation of an interoffice email system, which he called EMAIL.[5][6]\n",
      "\n",
      "A November 2011 Time Techland interview by Doug Aamoth, entitled \"The Man Who Invented Email\", argued that EMAIL represented the birth of email \"as we currently know it\". In that interview, Ayyadurai recalled that Les Michelson, the former particle scientist at Brookhaven National Labs who assigned Ayyadurai the project, had the idea of creating an electronic mail system that uses the header conventions of a hardcopy memorandum. Ayyadurai recalled Michelson as saying: \"Your job is to convert that into an electronic format. Nobody's done that before.\"[53]\n",
      "\n",
      "In February 2012, the Smithsonian National Museum of American History announced that Ayyadurai had donated \"a trove of documents and code\" related to EMAIL. Initially, the museum—inaccurately—cited the program as one of the first to include the now common \"subject and body fields, inboxes, outboxes, cc, bcc, attachments, and others. He based these elements directly off of the interoffice mail memos the doctors had been using for years, in hopes of convincing people to actually use the newfangled technology.\"[54]\n",
      "\n",
      "Ayyadurai's claims drew editorial clarifications and corrections, as well as criticism from industry observers. In a followup to its acquisition announcement, the Smithsonian stated that it was not claiming that Ayyadurai had invented email, but rather that the materials were historically notable for other reasons related to trends in computer education and the role of computers in medicine.[5] The Smithsonian statement distinguished Ayyadurai's achievement by noting that historians in the field, \"have largely focused on the use of large networked computers, especially those linked to the ARPANET in the early 1970s\". The statement pointed out that Ayyadurai's approach instead \"focused on communications between linked computer terminals in an ordinary office situation\".[5] The Washington Post also followed up with a correction of errors in its earlier report on the Smithsonian acquisition, stating that it incorrectly referred to Ayyadurai as the inventor of electronic messaging; the 'bcc', 'cc', 'to' and 'from' fields existed previously; Ayyadurai had not been honored as the \"inventor of email\".[7]\n",
      "\n",
      "Writing for Gizmodo, Sam Biddle argued that email was developed a decade before EMAIL, beginning with Ray Tomlinson's sending the first text letter between two ARPANET-connected computers in 1971.[55] Biddle quoted Tomlinson: \"[We] had most of the headers needed to deliver the message (to:, cc:, etc.) as well as identifying the sender (from:) and when the message was sent (date:) and what the message was about.\" Biddle allowed for the possibility that Ayyadurai may have coined the term \"EMAIL\" and used the header terms without being aware of earlier work, but maintained that the historical record isn't definitive on either point. Biddle wrote that \"laying claim to the name of a product that's the generic term for a universal technology gives you acres of weasel room. But creating a type of airplane named AIRPLANE doesn't make you Wilbur Wright.\"[56]\n",
      "\n",
      "Thomas Haigh, a historian of information technology at the University of Wisconsin, wrote that \"Ayyadurai is, to the best of my knowledge, the only person to have claimed for him or herself the title 'inventor of email'.\" Haigh argued that while EMAIL was impressive for a teenager's work, it contained no features that were not present on previous electronic mail systems and had no obvious influence on later systems. \"The most striking thing about Ayyadurai's claim to have invented electronic mail is how late it comes. Somehow it took him thirty years to alert the world to [his] greatest achievement\".[57] Haigh wrote that by 1980, \"electronic mail had been in use at MIT for 15 years, Xerox had built a modern, mouse-driven graphical email system for office communication, Compuserve was selling email access to the public, and email had for many years been the most popular application on what was soon to become the Internet.\"[58]\n",
      "\n",
      "David Crocker, a member of the ARPANET research community, writing in the Post, said, \"The reports incorrectly credited [EMAIL's] author, a 14-year-old in the late 1970s, as the 'inventor' of email, long after it had become an established service on the ARPANET.\"[59] Another computer historian, Marc Weber, a curator at the Computer History Museum, said that by 1978, \"nearly all the features we're familiar with today had appeared on one system or another over the previous dozen years\", including emoticons, mailing lists, flame wars, and spam mail.[60]\n",
      "\n",
      "After the controversy unfolded, MIT disassociated itself from Ayyadurai's EMAIL Lab and funding was dropped. MIT also revoked Ayyadurai's contract to lecture at the bioengineering department.[60]\n",
      "\n",
      "Ayyadurai characterized the earlier work of Tomlinson, Tom Van Vleck and others as text messaging, rather than an electronic version of an interoffice mail system.[53][60] Responding to his critics on his personal website,[56][60] Ayyadurai described EMAIL as \"the first of its kind—a fully integrated, database-driven, electronic translation of the interoffice paper mail system derived from the ordinary office situation.\" He maintained that EMAIL was the first electronic mail system to integrate an easy-to-use user interface, a word processor, a relational database, and a modular inter-communications protocol \"integrated together in one single and holistic platform to ensure high-reliability and user-friendliness network-wide.\"[61] Ayyadurai presented a press release on his webpage asserting that his undergraduate professor Noam Chomsky, of MIT's Department of Linguistics and Philosophy, also supported his claims.[6][15]\n",
      "\n",
      "In March 2016, Ayyadurai alleged that the overlooking of his achievements was a result of racism. He complained about Raytheon, where Tomlinson worked on ARPANET. After Tomlinson's death, Ayyadurai told The Hindu that he believed that news outlets retracted their stories about him because, \"Raytheon advertises in publications like the Huffington Post and CNN\" and that if he were \"a white guy and had a copyright for email, I would have my photo on every stamp in the world.\"[62] The day after Tomlinson's death, Ayyadurai tweeted: \"I'm the low-caste, dark-skinned, Indian, who DID invent #email. Not Raytheon, who profits for war & death. Their mascot Tomlinson dies a liar\".\n"
     ]
    }
   ],
   "source": [
    "fp.seek(0)\n",
    "text = fp.read()\n",
    "print(text)\n",
    "fp.close()"
   ]
  },
  {
   "cell_type": "code",
   "execution_count": 6,
   "metadata": {},
   "outputs": [
    {
     "name": "stdout",
     "output_type": "stream",
     "text": [
      "Number of times email appeared:  13\n"
     ]
    }
   ],
   "source": [
    "results = re.findall(r'email',text)\n",
    "count = len(results)\n",
    "print('Number of times email appeared: ', count)"
   ]
  },
  {
   "attachments": {},
   "cell_type": "markdown",
   "metadata": {},
   "source": [
    "# TASK # 02: Find the citations appeared in the text   "
   ]
  },
  {
   "cell_type": "code",
   "execution_count": 7,
   "metadata": {},
   "outputs": [
    {
     "name": "stdout",
     "output_type": "stream",
     "text": [
      "['[5]', '[6]', '[53]', '[54]', '[5]', '[5]', '[7]', '[55]', '[56]', '[57]', '[58]', '[59]', '[60]', '[60]', '[53]', '[60]', '[56]', '[60]', '[61]', '[6]', '[15]', '[62]']\n"
     ]
    }
   ],
   "source": [
    "citations = re.findall(\"\\[[0-9]*\\]\", text)\n",
    "print(citations)"
   ]
  },
  {
   "cell_type": "markdown",
   "metadata": {},
   "source": [
    "# Project Assignment: Extracting email ids from a text document"
   ]
  },
  {
   "cell_type": "code",
   "execution_count": 8,
   "metadata": {},
   "outputs": [],
   "source": [
    "import re"
   ]
  },
  {
   "cell_type": "code",
   "execution_count": 9,
   "metadata": {},
   "outputs": [
    {
     "name": "stdout",
     "output_type": "stream",
     "text": [
      "This is to inform you all that my new email is  ekoprasetyo.crb@outlook.com thanks...\n",
      "Mr. Moulana db.maulana@gmail.com is oppointed as manager who will be assisted by dee.wien@yahoo.com and \n",
      "deninainggolan@yahoo.co.id as Senior Quantity Surveyors\n",
      "Fajar.rohita@hotmail.com, was shifted to North-Eastren office\n",
      "firmansyah1404@gmail.com says its time to show our metal\n",
      "Our chief accounting officer fransiscajw@gmail.com says\n",
      "Hi Cindy ...pls share the Salary guide to donny_tri_wardono@yahoo.co.id thank you da\n"
     ]
    }
   ],
   "source": [
    "fp1 = open('sampleemailtext.txt','r')\n",
    "emailtext = fp1.read()\n",
    "print(emailtext)\n",
    "fp1.close()"
   ]
  },
  {
   "cell_type": "code",
   "execution_count": 10,
   "metadata": {},
   "outputs": [
    {
     "data": {
      "text/plain": [
       "str"
      ]
     },
     "execution_count": 10,
     "metadata": {},
     "output_type": "execute_result"
    }
   ],
   "source": [
    "type(emailtext)"
   ]
  },
  {
   "cell_type": "markdown",
   "metadata": {},
   "source": [
    "## You have to write a regular expression to extract all types of email ids from the above text"
   ]
  },
  {
   "cell_type": "code",
   "execution_count": null,
   "metadata": {},
   "outputs": [],
   "source": [
    "# TO DO: Write a regular expression to find email ids of any kind\n",
    "email_pattern = "
   ]
  },
  {
   "cell_type": "markdown",
   "metadata": {},
   "source": [
    "#### Extract the email ids based on your regular expression and display those list of extracted email ids "
   ]
  },
  {
   "cell_type": "code",
   "execution_count": null,
   "metadata": {},
   "outputs": [],
   "source": [
    "emails = re.findall(email_pattern, emailtext)\n",
    "print(emails)"
   ]
  },
  {
   "cell_type": "markdown",
   "metadata": {},
   "source": [
    "# Thank You"
   ]
  }
 ],
 "metadata": {
  "kernelspec": {
   "display_name": "Python 3",
   "language": "python",
   "name": "python3"
  },
  "language_info": {
   "codemirror_mode": {
    "name": "ipython",
    "version": 3
   },
   "file_extension": ".py",
   "mimetype": "text/x-python",
   "name": "python",
   "nbconvert_exporter": "python",
   "pygments_lexer": "ipython3",
   "version": "3.6.7"
  }
 },
 "nbformat": 4,
 "nbformat_minor": 2
}
