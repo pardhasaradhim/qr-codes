{
 "cells": [
  {
   "cell_type": "markdown",
   "metadata": {
    "slideshow": {
     "slide_type": "slide"
    }
   },
   "source": [
    "## Generation of QR code\n",
    "* STEP 1: Prepare the data in the form of 'vCard' data structure\n",
    "* STEP 2: Convert 'vCard' into 'QRCode' data structure\n",
    "* STEP 3: Save it as image"
   ]
  },
  {
   "cell_type": "code",
   "execution_count": 1,
   "metadata": {
    "slideshow": {
     "slide_type": "slide"
    }
   },
   "outputs": [],
   "source": [
    "import segno\n",
    "from segno import helpers"
   ]
  },
  {
   "cell_type": "markdown",
   "metadata": {},
   "source": [
    "#### STEP 1: Prepare the data in the form of 'vCard' data structure\n",
    "* Reference: \n",
    "    1. https://pypi.org/project/segno/\n",
    "    2. https://readthedocs.org/projects/segno/downloads/pdf/0.3.0/"
   ]
  },
  {
   "cell_type": "code",
   "execution_count": 2,
   "metadata": {
    "slideshow": {
     "slide_type": "slide"
    }
   },
   "outputs": [
    {
     "data": {
      "text/plain": [
       "'BEGIN:VCARD\\r\\nVERSION:3.0\\r\\nN:EFG;ABCD\\r\\nFN:Abcd Efg\\r\\nEMAIL:efg@example.org\\r\\nTEL:+1234567890\\r\\nURL:http://www.abcd.org\\r\\nEND:VCARD\\r\\n'"
      ]
     },
     "execution_count": 2,
     "metadata": {},
     "output_type": "execute_result"
    }
   ],
   "source": [
    "vcard = helpers.make_vcard_data(name='EFG;ABCD', displayname='Abcd Efg', email='efg@example.org', phone='+1234567890', url='http://www.abcd.org')\n",
    "vcard"
   ]
  },
  {
   "cell_type": "markdown",
   "metadata": {},
   "source": [
    "#### STEP 2: Convert 'vCard' into 'QRCode' data structure"
   ]
  },
  {
   "cell_type": "code",
   "execution_count": 3,
   "metadata": {
    "slideshow": {
     "slide_type": "slide"
    }
   },
   "outputs": [],
   "source": [
    "qr = segno.make(vcard)"
   ]
  },
  {
   "cell_type": "markdown",
   "metadata": {},
   "source": [
    "#### STEP 3: Save it as image"
   ]
  },
  {
   "cell_type": "code",
   "execution_count": 4,
   "metadata": {
    "slideshow": {
     "slide_type": "slide"
    }
   },
   "outputs": [],
   "source": [
    "qr.save('abcd.png',scale=4)"
   ]
  },
  {
   "cell_type": "markdown",
   "metadata": {
    "slideshow": {
     "slide_type": "slide"
    }
   },
   "source": [
    "## Load and display the QRCode image\n",
    "* We use 'openCV' library for loading image, and\n",
    "* For displaying the image we use 'matplotlib' library"
   ]
  },
  {
   "cell_type": "code",
   "execution_count": 5,
   "metadata": {
    "slideshow": {
     "slide_type": "slide"
    }
   },
   "outputs": [],
   "source": [
    "import cv2\n",
    "from matplotlib import pyplot as plt\n",
    "import numpy as np"
   ]
  },
  {
   "cell_type": "code",
   "execution_count": 6,
   "metadata": {
    "slideshow": {
     "slide_type": "slide"
    }
   },
   "outputs": [],
   "source": [
    "image = cv2.imread(\"abcd.png\")"
   ]
  },
  {
   "cell_type": "code",
   "execution_count": 6,
   "metadata": {
    "slideshow": {
     "slide_type": "slide"
    }
   },
   "outputs": [],
   "source": [
    "#print(image)"
   ]
  },
  {
   "cell_type": "code",
   "execution_count": 7,
   "metadata": {
    "slideshow": {
     "slide_type": "slide"
    }
   },
   "outputs": [
    {
     "data": {
      "image/png": "[encoded data removed]",
      "text/plain": [
       "<Figure size 432x288 with 1 Axes>"
      ]
     },
     "metadata": {
      "needs_background": "light"
     },
     "output_type": "display_data"
    }
   ],
   "source": [
    "#plt.imshow(image)\n",
    "#plt.show()\n",
    "plt.imshow(cv2.cvtColor(image, cv2.COLOR_BGR2RGB))\n",
    "# as opencv loads in BGR format by default, we want to show it in RGB.\n",
    "plt.show()"
   ]
  },
  {
   "cell_type": "markdown",
   "metadata": {},
   "source": [
    "## Decode the QR code image\n",
    "* STEP 1: Decode it using 'pyzbar' library\n",
    "* STEP 2: Extract the data from the object returned by this library\n",
    "* STEP 3: Present the extracted data in a format suitable of easy interpretation by humans"
   ]
  },
  {
   "cell_type": "code",
   "execution_count": 8,
   "metadata": {
    "slideshow": {
     "slide_type": "slide"
    }
   },
   "outputs": [],
   "source": [
    "import pyzbar.pyzbar as pyzbar\n",
    "import re"
   ]
  },
  {
   "cell_type": "markdown",
   "metadata": {},
   "source": [
    "#### STEP 1: Understanding the object returned by pyzbar\n",
    "* 'pyzbar' returns an object which consists of several elements\n",
    "* Among them we are interested mostly in 'data' element"
   ]
  },
  {
   "cell_type": "code",
   "execution_count": 9,
   "metadata": {
    "scrolled": true,
    "slideshow": {
     "slide_type": "slide"
    }
   },
   "outputs": [
    {
     "name": "stdout",
     "output_type": "stream",
     "text": [
      "[Decoded(data=b'BEGIN:VCARD\\r\\nVERSION:3.0\\r\\nN:EFG;ABCD\\r\\nFN:Abcd Efg\\r\\nEMAIL:efg@example.org\\r\\nTEL:+1234567890\\r\\nURL:http://www.abcd.org\\r\\nEND:VCARD\\r\\n', type='QRCODE', rect=Rect(left=16, top=16, width=163, height=163), polygon=[Point(x=16, y=16), Point(x=16, y=179), Point(x=179, y=179), Point(x=179, y=16)])]\n"
     ]
    }
   ],
   "source": [
    "decodedObjects = pyzbar.decode(image)\n",
    "print(decodedObjects)"
   ]
  },
  {
   "cell_type": "code",
   "execution_count": 10,
   "metadata": {
    "slideshow": {
     "slide_type": "slide"
    }
   },
   "outputs": [
    {
     "name": "stdout",
     "output_type": "stream",
     "text": [
      "Type:  QRCODE\n",
      "Data:  b'BEGIN:VCARD\\r\\nVERSION:3.0\\r\\nN:EFG;ABCD\\r\\nFN:Abcd Efg\\r\\nEMAIL:efg@example.org\\r\\nTEL:+1234567890\\r\\nURL:http://www.abcd.org\\r\\nEND:VCARD\\r\\n'\n",
      "Rectangle:  Rect(left=16, top=16, width=163, height=163)\n",
      "Polygon:  [Point(x=16, y=16), Point(x=16, y=179), Point(x=179, y=179), Point(x=179, y=16)]\n"
     ]
    }
   ],
   "source": [
    "for obj in decodedObjects:\n",
    "    typ = obj.type\n",
    "    data = obj.data\n",
    "    rect = obj.rect\n",
    "    poly = obj.polygon\n",
    "print('Type: ', typ)\n",
    "print('Data: ', data)\n",
    "print('Rectangle: ', rect)\n",
    "print('Polygon: ', poly)"
   ]
  },
  {
   "cell_type": "markdown",
   "metadata": {},
   "source": [
    "#### STEP 2: Converting the 'data' into string type\n",
    "* 'data' is in byte format i.e., in ASCII format\n",
    "    * Reference: https://theasciicode.com.ar/\n",
    "* It has to be converted into 'utf-8' format\n",
    "    * Reference: https://www.geeksforgeeks.org/python-strings-decode-method/"
   ]
  },
  {
   "cell_type": "code",
   "execution_count": 11,
   "metadata": {
    "slideshow": {
     "slide_type": "slide"
    }
   },
   "outputs": [
    {
     "data": {
      "text/plain": [
       "'BEGIN:VCARD\\r\\nVERSION:3.0\\r\\nN:EFG;ABCD\\r\\nFN:Abcd Efg\\r\\nEMAIL:efg@example.org\\r\\nTEL:+1234567890\\r\\nURL:http://www.abcd.org\\r\\nEND:VCARD\\r\\n'"
      ]
     },
     "execution_count": 11,
     "metadata": {},
     "output_type": "execute_result"
    }
   ],
   "source": [
    "data1 = data.decode('utf-8')\n",
    "data1"
   ]
  },
  {
   "cell_type": "markdown",
   "metadata": {},
   "source": [
    "#### STEP 3: Splitting into separate lines / python list"
   ]
  },
  {
   "cell_type": "code",
   "execution_count": 12,
   "metadata": {
    "slideshow": {
     "slide_type": "slide"
    }
   },
   "outputs": [
    {
     "data": {
      "text/plain": [
       "['BEGIN:VCARD\\r',\n",
       " 'VERSION:3.0\\r',\n",
       " 'N:EFG;ABCD\\r',\n",
       " 'FN:Abcd Efg\\r',\n",
       " 'EMAIL:efg@example.org\\r',\n",
       " 'TEL:+1234567890\\r',\n",
       " 'URL:http://www.abcd.org\\r',\n",
       " 'END:VCARD\\r',\n",
       " '']"
      ]
     },
     "execution_count": 12,
     "metadata": {},
     "output_type": "execute_result"
    }
   ],
   "source": [
    "data2=re.split(r'[\\n]',data1)\n",
    "data2"
   ]
  },
  {
   "cell_type": "code",
   "execution_count": 13,
   "metadata": {
    "slideshow": {
     "slide_type": "slide"
    }
   },
   "outputs": [
    {
     "name": "stdout",
     "output_type": "stream",
     "text": [
      "['efg@example.org']\n",
      "['http://www.abcd.org']\n"
     ]
    }
   ],
   "source": [
    "emails = []\n",
    "urls = []\n",
    "for line in data2:\n",
    "    #print(line)\n",
    "    line = re.split(r'[\\:]',line,1) # the third argument '1' is necessary, figure out why?\n",
    "    #print(line)\n",
    "    if line[0]=='EMAIL':\n",
    "        emails.append(line[1][:-1]) # figure out why [:-1] is necessary \n",
    "    if line[0]=='URL':\n",
    "        urls.append(line[1][:-1])\n",
    "print(emails)\n",
    "print(urls)"
   ]
  },
  {
   "cell_type": "markdown",
   "metadata": {},
   "source": [
    "## Extraction of data from QR code image in real time"
   ]
  },
  {
   "cell_type": "code",
   "execution_count": 18,
   "metadata": {},
   "outputs": [],
   "source": [
    "cap = cv2.VideoCapture(0)\n",
    "font = cv2.FONT_HERSHEY_PLAIN\n",
    "\n",
    "while True:\n",
    "    _, frame = cap.read()\n",
    " \n",
    "    decodedObjects = pyzbar.decode(frame)\n",
    "    for obj in decodedObjects:\n",
    "        #print(\"Data\", obj.data)\n",
    "        data = obj.data\n",
    "        data1 = data.decode('utf-8')\n",
    "        data2=re.split(r'[\\n]',data1)\n",
    "        #print(data2)\n",
    "        emails = []\n",
    "        urls = []\n",
    "        for line in data2:\n",
    "            #print(line)\n",
    "            line = re.split(r'[\\:]',line,1)\n",
    "            #print(line)\n",
    "            if line[0]=='EMAIL':\n",
    "                emails.append(line[1][:-1])\n",
    "            if line[0]=='URL':\n",
    "                urls.append(line[1][:-1])\n",
    "        #print(emails,urls)\n",
    "        cv2.putText(frame, str(emails), (50, 50), font, 2, (255, 0, 0), 3)\n",
    "\n",
    "    #cv2.putText(frame, str('Hi'),(50, 50), font, 2, (255, 0, 0), 3)\n",
    "    cv2.imshow(\"Frame\", frame)\n",
    "\n",
    "    key = cv2.waitKey(30) & 0xff\n",
    "    if key == 27 or cv2.getWindowProperty('Frame', 0)<0:\n",
    "        break\n",
    "cv2.destroyAllWindows()\n",
    "cap.release()"
   ]
  },
  {
   "cell_type": "markdown",
   "metadata": {},
   "source": [
    "# Project Assignment"
   ]
  },
  {
   "cell_type": "markdown",
   "metadata": {},
   "source": [
    "### Two ways of learning any programing language\n",
    "   * Coding your own programs\n",
    "   * Debugging other's source codes\n",
    "#### Now I am asking you to do it in second way"
   ]
  },
  {
   "cell_type": "markdown",
   "metadata": {},
   "source": [
    "#### This program has lots of dependencies in which some of them are not available by default\n",
    "Find which are available and install the unavailable packages on your system \n",
    "* Python: 3.6.7 \n",
    "* segno: 1.0.0 \n",
    "* OpenCV: 3.4.4 \n",
    "* numpy: 1.13.3 \n",
    "* pyzbar: 0.1.8 \n",
    "* Matplotlib: 3.0.2 \n",
    "* re: 2.2.1 "
   ]
  },
  {
   "cell_type": "markdown",
   "metadata": {},
   "source": [
    "#### TASK # 01: Your task is to run this notebook successfully on your system\n",
    "#### TASK # 02: Modify this note book to create a personalized QR code with multiple data values in one or two fields\n",
    "Example: \n",
    "* Name data field - one name \n",
    "* Email Ids field - two alternative mail ids\n",
    "* Phone numbers   - two alternative numbers\n",
    "* Url data field  - one url\n",
    "\n",
    "#### TASK # 03: Decode that QR code in real time "
   ]
  },
  {
   "cell_type": "markdown",
   "metadata": {},
   "source": [
    "# The End"
   ]
  }
 ],
 "metadata": {
  "kernelspec": {
   "display_name": "Python 3",
   "language": "python",
   "name": "python3"
  },
  "language_info": {
   "codemirror_mode": {
    "name": "ipython",
    "version": 3
   },
   "file_extension": ".py",
   "mimetype": "text/x-python",
   "name": "python",
   "nbconvert_exporter": "python",
   "pygments_lexer": "ipython3",
   "version": "3.6.7"
  }
 },
 "nbformat": 4,
 "nbformat_minor": 2
}
